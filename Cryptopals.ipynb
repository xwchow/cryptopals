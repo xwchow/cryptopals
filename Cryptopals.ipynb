{
 "cells": [
  {
   "cell_type": "markdown",
   "metadata": {},
   "source": [
    "# Imports and Utility Functions"
   ]
  },
  {
   "cell_type": "code",
   "execution_count": 25,
   "metadata": {},
   "outputs": [],
   "source": [
    "import codecs\n",
    "\n",
    "\n",
    "def repeat_key_xor(message, key):\n",
    "    n, m = len(message), len(key)\n",
    "    result = []\n",
    "    for i in range(n):\n",
    "        byte = message[i] ^ key[i % m]\n",
    "        result.append(byte)\n",
    "    return bytes(result)\n",
    "\n",
    "\n",
    "LETTERS = 'etaoinsrhldcumfpgwybvkxjqz'\n",
    "SCORES = [x for x in range(len(LETTERS), 0, -1)]\n",
    "def text_score(S):\n",
    "    \"\"\"\n",
    "    Returns the score of a piece of text looking only at letter \n",
    "    frequency.\n",
    "    \"\"\"\n",
    "    score = 0\n",
    "    for i in S:\n",
    "        ch = chr(i)\n",
    "        if ch != '\\n' and not ch.isprintable():\n",
    "            return -1\n",
    "        if ch in LETTERS:\n",
    "            score += SCORES[LETTERS.index(ch)]\n",
    "    return score\n",
    "\n",
    "\n",
    "def popcount(x):\n",
    "    return bin(x).count('1')\n",
    "\n",
    "\n",
    "def hamming_distance(A, B):\n",
    "    \"\"\"\n",
    "    (bytes, bytes) -> int\n",
    "    Returns the hamming distance between 'bytes' A and B.\n",
    "    \"\"\"\n",
    "    assert len(A) == len(B), 'lengths are not equal.'\n",
    "\n",
    "    distance = sum(popcount(x ^ y) for x, y in zip(A, B))\n",
    "    return distance\n"
   ]
  },
  {
   "cell_type": "markdown",
   "metadata": {},
   "source": [
    "## Challenge 1.1\n",
    "Convert hex to base64"
   ]
  },
  {
   "cell_type": "code",
   "execution_count": 26,
   "metadata": {},
   "outputs": [
    {
     "data": {
      "text/plain": [
       "b'SSdtIGtpbGxpbmcgeW91ciBicmFpbiBsaWtlIGEgcG9pc29ub3VzIG11c2hyb29t\\n'"
      ]
     },
     "execution_count": 26,
     "metadata": {},
     "output_type": "execute_result"
    }
   ],
   "source": [
    "hex_string = '49276d206b696c6c696e6720796f757220627261696e206c696b65206120706f69736f6e6f7573206d757368726f6f6d'\n",
    "b = codecs.decode(hex_string, 'hex')\n",
    "base64_string = codecs.encode(b, 'base64')\n",
    "\n",
    "base64_string"
   ]
  },
  {
   "cell_type": "markdown",
   "metadata": {},
   "source": [
    "## Challenge 1.2: Fixed XOR\n",
    "Write a function that takes two equal-length buffers and produces their XOR combination."
   ]
  },
  {
   "cell_type": "code",
   "execution_count": 27,
   "metadata": {},
   "outputs": [
    {
     "data": {
      "text/plain": [
       "'746865206b696420646f6e277420706c6179'"
      ]
     },
     "execution_count": 27,
     "metadata": {},
     "output_type": "execute_result"
    }
   ],
   "source": [
    "hex1 = '1c0111001f010100061a024b53535009181c'\n",
    "hex2 = '686974207468652062756c6c277320657965'\n",
    "b1 = codecs.decode(hex1, 'hex')\n",
    "b2 = codecs.decode(hex2, 'hex')\n",
    "\n",
    "result = [x ^ y for x, y in zip(b1, b2)]\n",
    "bytes(result).hex()"
   ]
  },
  {
   "cell_type": "markdown",
   "metadata": {},
   "source": [
    "## Challenge 1.3: Single-byte XOR cipher"
   ]
  },
  {
   "cell_type": "code",
   "execution_count": 28,
   "metadata": {},
   "outputs": [
    {
     "data": {
      "text/plain": [
       "(428, b\"Cooking MC's like a pound of bacon\")"
      ]
     },
     "execution_count": 28,
     "metadata": {},
     "output_type": "execute_result"
    }
   ],
   "source": [
    "def single_key_xor(b):\n",
    "    best = (-1, b'')\n",
    "    for guess in range(256):\n",
    "        b1 = repeat_key_xor(b, bytes([guess]))\n",
    "        score = text_score(b1)\n",
    "        best = max(best, (score, b1))\n",
    "    return best\n",
    "\n",
    "hex1 = '1b37373331363f78151b7f2b783431333d78397828372d363c78373e783a393b3736'\n",
    "b1 = codecs.decode(hex1, 'hex')\n",
    "    \n",
    "single_key_xor(b1)"
   ]
  },
  {
   "cell_type": "markdown",
   "metadata": {},
   "source": [
    "## Challenge 1.4: Detect single-character XOR"
   ]
  },
  {
   "cell_type": "code",
   "execution_count": 35,
   "metadata": {},
   "outputs": [
    {
     "data": {
      "text/plain": [
       "(416, b'Now that the party is jumping\\n')"
      ]
     },
     "execution_count": 35,
     "metadata": {},
     "output_type": "execute_result"
    }
   ],
   "source": [
    "best = (-1, b'')\n",
    "with open('data/4.txt', 'r') as fin:\n",
    "    for line in fin:\n",
    "        ans = single_key_xor(codecs.decode(line.rstrip(), 'hex'))\n",
    "        best = max(best, ans)\n",
    "best"
   ]
  },
  {
   "cell_type": "markdown",
   "metadata": {},
   "source": [
    "## Challenge 1.5: Implement repeating-key XOR"
   ]
  },
  {
   "cell_type": "code",
   "execution_count": 30,
   "metadata": {},
   "outputs": [
    {
     "data": {
      "text/plain": [
       "b'0b3637272a2b2e63622c2e69692a23693a2a3c6324202d623d63343c2a26226324272765272a282b2f20430a652e2c652a3124333a653e2b2027630c692b20283165286326302e27282f'"
      ]
     },
     "execution_count": 30,
     "metadata": {},
     "output_type": "execute_result"
    }
   ],
   "source": [
    "msg = '''Burning 'em, if you ain't quick and nimble\n",
    "I go crazy when I hear a cymbal'''\n",
    "\n",
    "key = 'ICE'\n",
    "b = repeat_key_xor(bytes(ord(x) for x in msg), bytes(ord(x) for x in key))\n",
    "\n",
    "codecs.encode(b, 'hex')"
   ]
  },
  {
   "cell_type": "markdown",
   "metadata": {},
   "source": [
    "## Challenge 1.6: Break repeating-key XOR"
   ]
  },
  {
   "cell_type": "code",
   "execution_count": 31,
   "metadata": {},
   "outputs": [
    {
     "data": {
      "text/plain": [
       "37"
      ]
     },
     "execution_count": 31,
     "metadata": {},
     "output_type": "execute_result"
    }
   ],
   "source": [
    "s1 = 'this is a test'\n",
    "s2 = 'wokka wokka!!!'\n",
    "\n",
    "hamming_distance(s1.encode('utf-8'), s2.encode('utf-8'))"
   ]
  },
  {
   "cell_type": "code",
   "execution_count": 34,
   "metadata": {},
   "outputs": [
    {
     "name": "stdout",
     "output_type": "stream",
     "text": [
      "I'm back and I'm ringin' the bell \n",
      "A rockin' on the mike while the fly girls yell \n",
      "In ecstasy in the back of me \n",
      "Well that's my DJ Deshay cuttin' all them Z's \n",
      "Hittin' hard and the girlies goin' crazy \n",
      "Vanilla's on the mike, man I'm not lazy. \n",
      "\n",
      "I'm lettin' my drug kick in \n",
      "It controls my mouth and I begin \n",
      "To just let it flow, let my concepts go \n",
      "My posse's to the side yellin', Go Vanilla Go! \n",
      "\n",
      "Smooth 'cause that's the way I will be \n",
      "And if you don't give a damn, then \n",
      "Why you starin' at me \n",
      "So get off 'cause I control the stage \n",
      "There's no dissin' allowed \n",
      "I'm in my own phase \n",
      "The girlies sa y they love me and that is ok \n",
      "And I can dance better than any kid n' play \n",
      "\n",
      "Stage 2 -- Yea the one ya' wanna listen to \n",
      "It's off my head so let the beat play through \n",
      "So I can funk it up and make it sound good \n",
      "1-2-3 Yo -- Knock on some wood \n",
      "For good luck, I like my rhymes atrocious \n",
      "Supercalafragilisticexpialidocious \n",
      "I'm an effect and that you can bet \n",
      "I can take a fly girl and make her wet. \n",
      "\n",
      "I'm like Samson -- Samson to Delilah \n",
      "There's no denyin', You can try to hang \n",
      "But you'll keep tryin' to get my style \n",
      "Over and over, practice makes perfect \n",
      "But not if you're a loafer. \n",
      "\n",
      "You'll get nowhere, no place, no time, no girls \n",
      "Soon -- Oh my God, homebody, you probably eat \n",
      "Spaghetti with a spoon! Come on and say it! \n",
      "\n",
      "VIP. Vanilla Ice yep, yep, I'm comin' hard like a rhino \n",
      "Intoxicating so you stagger like a wino \n",
      "So punks stop trying and girl stop cryin' \n",
      "Vanilla Ice is sellin' and you people are buyin' \n",
      "'Cause why the freaks are jockin' like Crazy Glue \n",
      "Movin' and groovin' trying to sing along \n",
      "All through the ghetto groovin' this here song \n",
      "Now you're amazed by the VIP posse. \n",
      "\n",
      "Steppin' so hard like a German Nazi \n",
      "Startled by the bases hittin' ground \n",
      "There's no trippin' on mine, I'm just gettin' down \n",
      "Sparkamatic, I'm hangin' tight like a fanatic \n",
      "You trapped me once and I thought that \n",
      "You might have it \n",
      "So step down and lend me your ear \n",
      "'89 in my time! You, '90 is my year. \n",
      "\n",
      "You're weakenin' fast, YO! and I can tell it \n",
      "Your body's gettin' hot, so, so I can smell it \n",
      "So don't be mad and don't be sad \n",
      "'Cause the lyrics belong to ICE, You can call me Dad \n",
      "You're pitchin' a fit, so step back and endure \n",
      "Let the witch doctor, Ice, do the dance to cure \n",
      "So come up close and don't be square \n",
      "You wanna battle me -- Anytime, anywhere \n",
      "\n",
      "You thought that I was weak, Boy, you're dead wrong \n",
      "So come on, everybody and sing this song \n",
      "\n",
      "Say -- Play that funky music Say, go white boy, go white boy go \n",
      "play that funky music Go white boy, go white boy, go \n",
      "Lay down and boogie and play that funky music till you die. \n",
      "\n",
      "Play that funky music Come on, Come on, let me hear \n",
      "Play that funky music white boy you say it, say it \n",
      "Play that funky music A little louder now \n",
      "Play that funky music, white boy Come on, Come on, Come on \n",
      "Play that funky music \n",
      "\n"
     ]
    }
   ],
   "source": [
    "msg = codecs.decode(open('data/6.txt', 'r').read().encode('utf-8'), 'base64')\n",
    "n = len(msg)\n",
    "keysizes = []\n",
    "for k in range(2, 41):\n",
    "    total_distance = 0\n",
    "    for i in range(0, n, k):\n",
    "        if i + 2*k >= n:\n",
    "            break\n",
    "        total_distance += hamming_distance(msg[i:i + k], msg[i + k:i + 2*k])\n",
    "    keysizes.append((k, total_distance))\n",
    "\n",
    "keysizes.sort(key=lambda x: x[1])\n",
    "for k in keysizes[:1]:\n",
    "    size = k[0]\n",
    "    blocks = [[] for _ in range(size)]\n",
    "    for i in range(n):\n",
    "        blocks[i % size].append(msg[i])\n",
    "\n",
    "    best = []\n",
    "    for block in blocks:\n",
    "        best.append(single_key_xor(bytes(block))[1])\n",
    "\n",
    "    reconstructed = []\n",
    "    for i in range(n):\n",
    "        reconstructed.append(best[i % size][i // size])\n",
    "        \n",
    "    print(bytes(reconstructed).decode('utf-8'))\n"
   ]
  },
  {
   "cell_type": "markdown",
   "metadata": {},
   "source": [
    "## Challenge 1.7: AES in ECB mode"
   ]
  },
  {
   "cell_type": "code",
   "execution_count": 36,
   "metadata": {},
   "outputs": [],
   "source": [
    "def flip_16(b):\n",
    "    result = [0 for _ in range(16)]\n",
    "    for i in range(16):\n",
    "        r, c = i // 4, i % 4\n",
    "        result[4*c + r] = b[i]\n",
    "    return result\n",
    "\n",
    "\n",
    "sbox = [\n",
    "    0x63, 0x7C, 0x77, 0x7B, 0xF2, 0x6B, 0x6F, 0xC5, 0x30, 0x01, 0x67, 0x2B,\n",
    "    0xFE, 0xD7, 0xAB, 0x76, 0xCA, 0x82, 0xC9, 0x7D, 0xFA, 0x59, 0x47, 0xF0,\n",
    "    0xAD, 0xD4, 0xA2, 0xAF, 0x9C, 0xA4, 0x72, 0xC0, 0xB7, 0xFD, 0x93, 0x26,\n",
    "    0x36, 0x3F, 0xF7, 0xCC, 0x34, 0xA5, 0xE5, 0xF1, 0x71, 0xD8, 0x31, 0x15,\n",
    "    0x04, 0xC7, 0x23, 0xC3, 0x18, 0x96, 0x05, 0x9A, 0x07, 0x12, 0x80, 0xE2,\n",
    "    0xEB, 0x27, 0xB2, 0x75, 0x09, 0x83, 0x2C, 0x1A, 0x1B, 0x6E, 0x5A, 0xA0,\n",
    "    0x52, 0x3B, 0xD6, 0xB3, 0x29, 0xE3, 0x2F, 0x84, 0x53, 0xD1, 0x00, 0xED,\n",
    "    0x20, 0xFC, 0xB1, 0x5B, 0x6A, 0xCB, 0xBE, 0x39, 0x4A, 0x4C, 0x58, 0xCF,\n",
    "    0xD0, 0xEF, 0xAA, 0xFB, 0x43, 0x4D, 0x33, 0x85, 0x45, 0xF9, 0x02, 0x7F,\n",
    "    0x50, 0x3C, 0x9F, 0xA8, 0x51, 0xA3, 0x40, 0x8F, 0x92, 0x9D, 0x38, 0xF5,\n",
    "    0xBC, 0xB6, 0xDA, 0x21, 0x10, 0xFF, 0xF3, 0xD2, 0xCD, 0x0C, 0x13, 0xEC,\n",
    "    0x5F, 0x97, 0x44, 0x17, 0xC4, 0xA7, 0x7E, 0x3D, 0x64, 0x5D, 0x19, 0x73,\n",
    "    0x60, 0x81, 0x4F, 0xDC, 0x22, 0x2A, 0x90, 0x88, 0x46, 0xEE, 0xB8, 0x14,\n",
    "    0xDE, 0x5E, 0x0B, 0xDB, 0xE0, 0x32, 0x3A, 0x0A, 0x49, 0x06, 0x24, 0x5C,\n",
    "    0xC2, 0xD3, 0xAC, 0x62, 0x91, 0x95, 0xE4, 0x79, 0xE7, 0xC8, 0x37, 0x6D,\n",
    "    0x8D, 0xD5, 0x4E, 0xA9, 0x6C, 0x56, 0xF4, 0xEA, 0x65, 0x7A, 0xAE, 0x08,\n",
    "    0xBA, 0x78, 0x25, 0x2E, 0x1C, 0xA6, 0xB4, 0xC6, 0xE8, 0xDD, 0x74, 0x1F,\n",
    "    0x4B, 0xBD, 0x8B, 0x8A, 0x70, 0x3E, 0xB5, 0x66, 0x48, 0x03, 0xF6, 0x0E,\n",
    "    0x61, 0x35, 0x57, 0xB9, 0x86, 0xC1, 0x1D, 0x9E, 0xE1, 0xF8, 0x98, 0x11,\n",
    "    0x69, 0xD9, 0x8E, 0x94, 0x9B, 0x1E, 0x87, 0xE9, 0xCE, 0x55, 0x28, 0xDF,\n",
    "    0x8C, 0xA1, 0x89, 0x0D, 0xBF, 0xE6, 0x42, 0x68, 0x41, 0x99, 0x2D, 0x0F,\n",
    "    0xB0, 0x54, 0xBB, 0x16\n",
    "]\n",
    "\n",
    "inv_sbox = [\n",
    "    0x52, 0x09, 0x6A, 0xD5, 0x30, 0x36, 0xA5, 0x38, 0xBF, 0x40, 0xA3, 0x9E,\n",
    "    0x81, 0xF3, 0xD7, 0xFB, 0x7C, 0xE3, 0x39, 0x82, 0x9B, 0x2F, 0xFF, 0x87,\n",
    "    0x34, 0x8E, 0x43, 0x44, 0xC4, 0xDE, 0xE9, 0xCB, 0x54, 0x7B, 0x94, 0x32,\n",
    "    0xA6, 0xC2, 0x23, 0x3D, 0xEE, 0x4C, 0x95, 0x0B, 0x42, 0xFA, 0xC3, 0x4E,\n",
    "    0x08, 0x2E, 0xA1, 0x66, 0x28, 0xD9, 0x24, 0xB2, 0x76, 0x5B, 0xA2, 0x49,\n",
    "    0x6D, 0x8B, 0xD1, 0x25, 0x72, 0xF8, 0xF6, 0x64, 0x86, 0x68, 0x98, 0x16,\n",
    "    0xD4, 0xA4, 0x5C, 0xCC, 0x5D, 0x65, 0xB6, 0x92, 0x6C, 0x70, 0x48, 0x50,\n",
    "    0xFD, 0xED, 0xB9, 0xDA, 0x5E, 0x15, 0x46, 0x57, 0xA7, 0x8D, 0x9D, 0x84,\n",
    "    0x90, 0xD8, 0xAB, 0x00, 0x8C, 0xBC, 0xD3, 0x0A, 0xF7, 0xE4, 0x58, 0x05,\n",
    "    0xB8, 0xB3, 0x45, 0x06, 0xD0, 0x2C, 0x1E, 0x8F, 0xCA, 0x3F, 0x0F, 0x02,\n",
    "    0xC1, 0xAF, 0xBD, 0x03, 0x01, 0x13, 0x8A, 0x6B, 0x3A, 0x91, 0x11, 0x41,\n",
    "    0x4F, 0x67, 0xDC, 0xEA, 0x97, 0xF2, 0xCF, 0xCE, 0xF0, 0xB4, 0xE6, 0x73,\n",
    "    0x96, 0xAC, 0x74, 0x22, 0xE7, 0xAD, 0x35, 0x85, 0xE2, 0xF9, 0x37, 0xE8,\n",
    "    0x1C, 0x75, 0xDF, 0x6E, 0x47, 0xF1, 0x1A, 0x71, 0x1D, 0x29, 0xC5, 0x89,\n",
    "    0x6F, 0xB7, 0x62, 0x0E, 0xAA, 0x18, 0xBE, 0x1B, 0xFC, 0x56, 0x3E, 0x4B,\n",
    "    0xC6, 0xD2, 0x79, 0x20, 0x9A, 0xDB, 0xC0, 0xFE, 0x78, 0xCD, 0x5A, 0xF4,\n",
    "    0x1F, 0xDD, 0xA8, 0x33, 0x88, 0x07, 0xC7, 0x31, 0xB1, 0x12, 0x10, 0x59,\n",
    "    0x27, 0x80, 0xEC, 0x5F, 0x60, 0x51, 0x7F, 0xA9, 0x19, 0xB5, 0x4A, 0x0D,\n",
    "    0x2D, 0xE5, 0x7A, 0x9F, 0x93, 0xC9, 0x9C, 0xEF, 0xA0, 0xE0, 0x3B, 0x4D,\n",
    "    0xAE, 0x2A, 0xF5, 0xB0, 0xC8, 0xEB, 0xBB, 0x3C, 0x83, 0x53, 0x99, 0x61,\n",
    "    0x17, 0x2B, 0x04, 0x7E, 0xBA, 0x77, 0xD6, 0x26, 0xE1, 0x69, 0x14, 0x63,\n",
    "    0x55, 0x21, 0x0C, 0x7D\n",
    "]\n",
    "\n",
    "\n",
    "def key_expansion(key):\n",
    "    rcon = [1, 2, 4, 8, 16, 32, 64, 128, 27, 54, 108, 216, 171]\n",
    "    rcon_i = 0\n",
    "    expanded_key = [list(key)]\n",
    "    for rd in range(1, 11):\n",
    "        current_key = []\n",
    "        for k in range(4):\n",
    "            t = current_key[-4:] if k > 0 else expanded_key[rd-1][-4:]\n",
    "            if k == 0:\n",
    "                t = t[1:] + t[:1]\n",
    "                for i in range(0, 4):\n",
    "                    t[i] = sbox[t[i]]\n",
    "                t[0] ^= rcon[rcon_i]\n",
    "                rcon_i += 1\n",
    "            for i in range(0, 4):\n",
    "                t[i] ^= expanded_key[rd-1][k*4 + i]\n",
    "            current_key += t\n",
    "        expanded_key.append(current_key)\n",
    "    return expanded_key\n",
    "\n",
    "\n",
    "def sub_bytes(state):\n",
    "    return [sbox[x] for x in state]\n",
    "\n",
    "\n",
    "def inv_sub_bytes(state):\n",
    "    return [inv_sbox[x] for x in state]\n",
    "\n",
    "\n",
    "def shift_rows(state):\n",
    "    state = flip_16(state)\n",
    "    result = []\n",
    "    for i in range(4):\n",
    "        a, b = 4 * i, 4 * (i+1)\n",
    "        result += state[a+i:b] + state[a:a+i]\n",
    "    result = flip_16(result)\n",
    "    return result\n",
    "\n",
    "\n",
    "def inv_shift_rows(state):\n",
    "    state = flip_16(state)\n",
    "    result = []\n",
    "    for i in range(4):\n",
    "        a, b = 4 * i, 4 * (i+1)\n",
    "        result += state[a+(4-i):b] + state[a:a+(4-i)]\n",
    "    result = flip_16(result)\n",
    "    return result\n",
    "\n",
    "\n",
    "def gmul(a, b):\n",
    "    p = 0\n",
    "    for _ in range(8):\n",
    "        if (b & 1) == 1:\n",
    "            p ^= a\n",
    "        high = (a & (1 << 7)) != 0\n",
    "        a <<= 1\n",
    "        if high:\n",
    "            a ^= int('1b', 16)\n",
    "        b >>= 1\n",
    "    return p % 256\n",
    "\n",
    "\n",
    "def mix_column(column):\n",
    "    mat = [\n",
    "        [2, 3, 1, 1],\n",
    "        [1, 2, 3, 1],\n",
    "        [1, 1, 2, 3],\n",
    "        [3, 1, 1, 2]]\n",
    "    result = []\n",
    "    for i in range(4):\n",
    "        x = 0\n",
    "        for j in range(4):\n",
    "            x ^= gmul(mat[i][j], column[j])\n",
    "        result.append(x)\n",
    "    return result\n",
    "\n",
    "\n",
    "def mix_columns(state):\n",
    "    for i in range(4):\n",
    "        column = state[4*i:4*(i+1)]\n",
    "        column = mix_column(column)\n",
    "        state[4*i:4*(i+1)] = column\n",
    "    return state\n",
    "\n",
    "\n",
    "def inv_mix_column(column):\n",
    "    mat = [\n",
    "        [0x0e, 0x0b, 0x0d, 0x09],\n",
    "        [0x09, 0x0e, 0x0b, 0x0d],\n",
    "        [0x0d, 0x09, 0x0e, 0x0b],\n",
    "        [0x0b, 0x0d, 0x09, 0x0e]]\n",
    "    result = []\n",
    "    for i in range(4):\n",
    "        x = 0\n",
    "        for j in range(4):\n",
    "            x ^= gmul(mat[i][j], column[j])\n",
    "        result.append(x)\n",
    "    return result\n",
    "\n",
    "\n",
    "def inv_mix_columns(state):\n",
    "    for i in range(4):\n",
    "        column = state[4*i:4*(i+1)]\n",
    "        column = inv_mix_column(column)\n",
    "        state[4*i:4*(i+1)] = column\n",
    "    return state\n",
    "\n",
    "\n",
    "def add_round_key(state, key):\n",
    "    for i in range(16):\n",
    "        state[i] ^= key[i]\n",
    "    return state\n",
    "\n",
    "\n",
    "def aes_128_encrypt(text, key):\n",
    "    assert len(text) == 16\n",
    "    assert len(key) == 16\n",
    "    block = list(text)\n",
    "    round_key = key_expansion(key)\n",
    "    block = add_round_key(block, round_key[0])\n",
    "    for rd in range(10):\n",
    "        block = sub_bytes(block)\n",
    "        block = shift_rows(block)\n",
    "        if rd < 9:\n",
    "            block = mix_columns(block)\n",
    "        block = add_round_key(block, round_key[rd+1])\n",
    "    return bytes(block)\n",
    "\n",
    "\n",
    "def aes_128_decrypt(cipher, key):\n",
    "    assert len(cipher) == 16\n",
    "    assert len(key) == 16\n",
    "    block = list(cipher)\n",
    "    round_key = key_expansion(key)\n",
    "    for rd in range(10):\n",
    "        block = add_round_key(block, round_key[10 - rd])\n",
    "        if rd > 0:\n",
    "            block = inv_mix_columns(block)\n",
    "        block = inv_sub_bytes(block)\n",
    "        block = inv_shift_rows(block)\n",
    "    block = add_round_key(block, round_key[0])\n",
    "    return bytes(block)"
   ]
  },
  {
   "cell_type": "code",
   "execution_count": 39,
   "metadata": {},
   "outputs": [
    {
     "name": "stdout",
     "output_type": "stream",
     "text": [
      "I'm back and I'm ringin' the bell \n",
      "A rockin' on the mike while the fly girls yell \n",
      "In ecstasy in the back of me \n",
      "Well that's my DJ Deshay cuttin' all them Z's \n",
      "Hittin' hard and the girlies goin' crazy \n",
      "Vanilla's on the mike, man I'm not lazy. \n",
      "\n",
      "I'm lettin' my drug kick in \n",
      "It controls my mouth and I begin \n",
      "To just let it flow, let my concepts go \n",
      "My posse's to the side yellin', Go Vanilla Go! \n",
      "\n",
      "Smooth 'cause that's the way I will be \n",
      "And if you don't give a damn, then \n",
      "Why you starin' at me \n",
      "So get off 'cause I control the stage \n",
      "There's no dissin' allowed \n",
      "I'm in my own phase \n",
      "The girlies sa y they love me and that is ok \n",
      "And I can dance better than any kid n' play \n",
      "\n",
      "Stage 2 -- Yea the one ya' wanna listen to \n",
      "It's off my head so let the beat play through \n",
      "So I can funk it up and make it sound good \n",
      "1-2-3 Yo -- Knock on some wood \n",
      "For good luck, I like my rhymes atrocious \n",
      "Supercalafragilisticexpialidocious \n",
      "I'm an effect and that you can bet \n",
      "I can take a fly girl and make her wet. \n",
      "\n",
      "I'm like Samson -- Samson to Delilah \n",
      "There's no denyin', You can try to hang \n",
      "But you'll keep tryin' to get my style \n",
      "Over and over, practice makes perfect \n",
      "But not if you're a loafer. \n",
      "\n",
      "You'll get nowhere, no place, no time, no girls \n",
      "Soon -- Oh my God, homebody, you probably eat \n",
      "Spaghetti with a spoon! Come on and say it! \n",
      "\n",
      "VIP. Vanilla Ice yep, yep, I'm comin' hard like a rhino \n",
      "Intoxicating so you stagger like a wino \n",
      "So punks stop trying and girl stop cryin' \n",
      "Vanilla Ice is sellin' and you people are buyin' \n",
      "'Cause why the freaks are jockin' like Crazy Glue \n",
      "Movin' and groovin' trying to sing along \n",
      "All through the ghetto groovin' this here song \n",
      "Now you're amazed by the VIP posse. \n",
      "\n",
      "Steppin' so hard like a German Nazi \n",
      "Startled by the bases hittin' ground \n",
      "There's no trippin' on mine, I'm just gettin' down \n",
      "Sparkamatic, I'm hangin' tight like a fanatic \n",
      "You trapped me once and I thought that \n",
      "You might have it \n",
      "So step down and lend me your ear \n",
      "'89 in my time! You, '90 is my year. \n",
      "\n",
      "You're weakenin' fast, YO! and I can tell it \n",
      "Your body's gettin' hot, so, so I can smell it \n",
      "So don't be mad and don't be sad \n",
      "'Cause the lyrics belong to ICE, You can call me Dad \n",
      "You're pitchin' a fit, so step back and endure \n",
      "Let the witch doctor, Ice, do the dance to cure \n",
      "So come up close and don't be square \n",
      "You wanna battle me -- Anytime, anywhere \n",
      "\n",
      "You thought that I was weak, Boy, you're dead wrong \n",
      "So come on, everybody and sing this song \n",
      "\n",
      "Say -- Play that funky music Say, go white boy, go white boy go \n",
      "play that funky music Go white boy, go white boy, go \n",
      "Lay down and boogie and play that funky music till you die. \n",
      "\n",
      "Play that funky music Come on, Come on, let me hear \n",
      "Play that funky music white boy you say it, say it \n",
      "Play that funky music A little louder now \n",
      "Play that funky music, white boy Come o\n"
     ]
    }
   ],
   "source": [
    "msg = codecs.decode(open('data/7.txt', 'r').read().encode('utf-8'), 'base64')\n",
    "key = b'YELLOW SUBMARINE'\n",
    "\n",
    "n = len(msg)\n",
    "text = b''\n",
    "for k in range(0, n, 16):\n",
    "    cipher = msg[k:(k+16) if (k+16) < n else n]\n",
    "    if len(cipher) != 16:\n",
    "        # TODO: figure out padding here\n",
    "        continue\n",
    "    text += aes_128_decrypt(cipher, key)\n",
    "print(text.decode('utf-8'))"
   ]
  },
  {
   "cell_type": "markdown",
   "metadata": {},
   "source": [
    "## Challenge 1.8: Detect AES in ECB mode"
   ]
  },
  {
   "cell_type": "code",
   "execution_count": 58,
   "metadata": {},
   "outputs": [
    {
     "name": "stdout",
     "output_type": "stream",
     "text": [
      "d880619740a8a19b7840a8a31c810a3d08649af70dc06f4fd5d2d69c744cd283e2dd052f6b641dbf9d11b0348542bb5708649af70dc06f4fd5d2d69c744cd2839475c9dfdbc1d46597949d9c7e82bf5a08649af70dc06f4fd5d2d69c744cd28397a93eab8d6aecd566489154789a6b0308649af70dc06f4fd5d2d69c744cd283d403180c98c8f6db1f2a3f9c4040deb0ab51b29933f2c123c58386b06fba186a\n",
      "\n"
     ]
    }
   ],
   "source": [
    "lines = open('data/8.txt', 'r').readlines()\n",
    "for line in lines:\n",
    "    b = codecs.decode(line.rstrip(), 'hex')\n",
    "    n = len(b)\n",
    "    \n",
    "    S = set()\n",
    "    for i in range(0, n, 16):\n",
    "        S.add(b[i:i+16])\n",
    "    \n",
    "    if len(S) != (n // 16):\n",
    "        print(line)"
   ]
  },
  {
   "cell_type": "code",
   "execution_count": null,
   "metadata": {},
   "outputs": [],
   "source": []
  }
 ],
 "metadata": {
  "kernelspec": {
   "display_name": "Python 3",
   "language": "python",
   "name": "python3"
  },
  "language_info": {
   "codemirror_mode": {
    "name": "ipython",
    "version": 3
   },
   "file_extension": ".py",
   "mimetype": "text/x-python",
   "name": "python",
   "nbconvert_exporter": "python",
   "pygments_lexer": "ipython3",
   "version": "3.5.2"
  }
 },
 "nbformat": 4,
 "nbformat_minor": 2
}
