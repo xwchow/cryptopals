{
 "cells": [
  {
   "cell_type": "markdown",
   "metadata": {},
   "source": [
    "# Imports and Utility Functions"
   ]
  },
  {
   "cell_type": "code",
   "execution_count": 25,
   "metadata": {},
   "outputs": [],
   "source": [
    "import codecs\n",
    "\n",
    "\n",
    "def repeat_key_xor(message, key):\n",
    "    n, m = len(message), len(key)\n",
    "    result = []\n",
    "    for i in range(n):\n",
    "        byte = message[i] ^ key[i % m]\n",
    "        result.append(byte)\n",
    "    return bytes(result)\n",
    "\n",
    "\n",
    "LETTERS = 'etaoinsrhldcumfpgwybvkxjqz'\n",
    "SCORES = [x for x in range(len(LETTERS), 0, -1)]\n",
    "def text_score(S):\n",
    "    \"\"\"\n",
    "    Returns the score of a piece of text looking only at letter \n",
    "    frequency.\n",
    "    \"\"\"\n",
    "    score = 0\n",
    "    for i in S:\n",
    "        ch = chr(i)\n",
    "        if ch != '\\n' and not ch.isprintable():\n",
    "            return -1\n",
    "        if ch in LETTERS:\n",
    "            score += SCORES[LETTERS.index(ch)]\n",
    "    return score\n",
    "\n",
    "\n",
    "def popcount(x):\n",
    "    return bin(x).count('1')\n",
    "\n",
    "\n",
    "def hamming_distance(A, B):\n",
    "    \"\"\"\n",
    "    (bytes, bytes) -> int\n",
    "    Returns the hamming distance between 'bytes' A and B.\n",
    "    \"\"\"\n",
    "    assert len(A) == len(B), 'lengths are not equal.'\n",
    "\n",
    "    distance = sum(popcount(x ^ y) for x, y in zip(A, B))\n",
    "    return distance\n"
   ]
  },
  {
   "cell_type": "markdown",
   "metadata": {},
   "source": [
    "## Challenge 1.1\n",
    "Convert hex to base64"
   ]
  },
  {
   "cell_type": "code",
   "execution_count": 26,
   "metadata": {},
   "outputs": [
    {
     "data": {
      "text/plain": [
       "b'SSdtIGtpbGxpbmcgeW91ciBicmFpbiBsaWtlIGEgcG9pc29ub3VzIG11c2hyb29t\\n'"
      ]
     },
     "execution_count": 26,
     "metadata": {},
     "output_type": "execute_result"
    }
   ],
   "source": [
    "hex_string = '49276d206b696c6c696e6720796f757220627261696e206c696b65206120706f69736f6e6f7573206d757368726f6f6d'\n",
    "b = codecs.decode(hex_string, 'hex')\n",
    "base64_string = codecs.encode(b, 'base64')\n",
    "\n",
    "base64_string"
   ]
  },
  {
   "cell_type": "markdown",
   "metadata": {},
   "source": [
    "## Challenge 1.2: Fixed XOR\n",
    "Write a function that takes two equal-length buffers and produces their XOR combination."
   ]
  },
  {
   "cell_type": "code",
   "execution_count": 27,
   "metadata": {},
   "outputs": [
    {
     "data": {
      "text/plain": [
       "'746865206b696420646f6e277420706c6179'"
      ]
     },
     "execution_count": 27,
     "metadata": {},
     "output_type": "execute_result"
    }
   ],
   "source": [
    "hex1 = '1c0111001f010100061a024b53535009181c'\n",
    "hex2 = '686974207468652062756c6c277320657965'\n",
    "b1 = codecs.decode(hex1, 'hex')\n",
    "b2 = codecs.decode(hex2, 'hex')\n",
    "\n",
    "result = [x ^ y for x, y in zip(b1, b2)]\n",
    "bytes(result).hex()"
   ]
  },
  {
   "cell_type": "markdown",
   "metadata": {},
   "source": [
    "## Challenge 1.3: Single-byte XOR cipher"
   ]
  },
  {
   "cell_type": "code",
   "execution_count": 28,
   "metadata": {},
   "outputs": [
    {
     "data": {
      "text/plain": [
       "(428, b\"Cooking MC's like a pound of bacon\")"
      ]
     },
     "execution_count": 28,
     "metadata": {},
     "output_type": "execute_result"
    }
   ],
   "source": [
    "def single_key_xor(b):\n",
    "    best = (-1, b'')\n",
    "    for guess in range(256):\n",
    "        b1 = repeat_key_xor(b, bytes([guess]))\n",
    "        score = text_score(b1)\n",
    "        best = max(best, (score, b1))\n",
    "    return best\n",
    "\n",
    "hex1 = '1b37373331363f78151b7f2b783431333d78397828372d363c78373e783a393b3736'\n",
    "b1 = codecs.decode(hex1, 'hex')\n",
    "    \n",
    "single_key_xor(b1)"
   ]
  },
  {
   "cell_type": "markdown",
   "metadata": {},
   "source": [
    "## Challenge 1.4: Detect single-character XOR"
   ]
  },
  {
   "cell_type": "code",
   "execution_count": 35,
   "metadata": {},
   "outputs": [
    {
     "data": {
      "text/plain": [
       "(416, b'Now that the party is jumping\\n')"
      ]
     },
     "execution_count": 35,
     "metadata": {},
     "output_type": "execute_result"
    }
   ],
   "source": [
    "best = (-1, b'')\n",
    "with open('data/4.txt', 'r') as fin:\n",
    "    for line in fin:\n",
    "        ans = single_key_xor(codecs.decode(line.rstrip(), 'hex'))\n",
    "        best = max(best, ans)\n",
    "best"
   ]
  },
  {
   "cell_type": "markdown",
   "metadata": {},
   "source": [
    "## Challenge 1.5: Implement repeating-key XOR"
   ]
  },
  {
   "cell_type": "code",
   "execution_count": 30,
   "metadata": {},
   "outputs": [
    {
     "data": {
      "text/plain": [
       "b'0b3637272a2b2e63622c2e69692a23693a2a3c6324202d623d63343c2a26226324272765272a282b2f20430a652e2c652a3124333a653e2b2027630c692b20283165286326302e27282f'"
      ]
     },
     "execution_count": 30,
     "metadata": {},
     "output_type": "execute_result"
    }
   ],
   "source": [
    "msg = '''Burning 'em, if you ain't quick and nimble\n",
    "I go crazy when I hear a cymbal'''\n",
    "\n",
    "key = 'ICE'\n",
    "b = repeat_key_xor(bytes(ord(x) for x in msg), bytes(ord(x) for x in key))\n",
    "\n",
    "codecs.encode(b, 'hex')"
   ]
  },
  {
   "cell_type": "markdown",
   "metadata": {},
   "source": [
    "## Challenge 1.6: Break repeating-key XOR"
   ]
  },
  {
   "cell_type": "code",
   "execution_count": 31,
   "metadata": {},
   "outputs": [
    {
     "data": {
      "text/plain": [
       "37"
      ]
     },
     "execution_count": 31,
     "metadata": {},
     "output_type": "execute_result"
    }
   ],
   "source": [
    "s1 = 'this is a test'\n",
    "s2 = 'wokka wokka!!!'\n",
    "\n",
    "hamming_distance(s1.encode('utf-8'), s2.encode('utf-8'))"
   ]
  },
  {
   "cell_type": "code",
   "execution_count": 34,
   "metadata": {},
   "outputs": [
    {
     "name": "stdout",
     "output_type": "stream",
     "text": [
      "I'm back and I'm ringin' the bell \n",
      "A rockin' on the mike while the fly girls yell \n",
      "In ecstasy in the back of me \n",
      "Well that's my DJ Deshay cuttin' all them Z's \n",
      "Hittin' hard and the girlies goin' crazy \n",
      "Vanilla's on the mike, man I'm not lazy. \n",
      "\n",
      "I'm lettin' my drug kick in \n",
      "It controls my mouth and I begin \n",
      "To just let it flow, let my concepts go \n",
      "My posse's to the side yellin', Go Vanilla Go! \n",
      "\n",
      "Smooth 'cause that's the way I will be \n",
      "And if you don't give a damn, then \n",
      "Why you starin' at me \n",
      "So get off 'cause I control the stage \n",
      "There's no dissin' allowed \n",
      "I'm in my own phase \n",
      "The girlies sa y they love me and that is ok \n",
      "And I can dance better than any kid n' play \n",
      "\n",
      "Stage 2 -- Yea the one ya' wanna listen to \n",
      "It's off my head so let the beat play through \n",
      "So I can funk it up and make it sound good \n",
      "1-2-3 Yo -- Knock on some wood \n",
      "For good luck, I like my rhymes atrocious \n",
      "Supercalafragilisticexpialidocious \n",
      "I'm an effect and that you can bet \n",
      "I can take a fly girl and make her wet. \n",
      "\n",
      "I'm like Samson -- Samson to Delilah \n",
      "There's no denyin', You can try to hang \n",
      "But you'll keep tryin' to get my style \n",
      "Over and over, practice makes perfect \n",
      "But not if you're a loafer. \n",
      "\n",
      "You'll get nowhere, no place, no time, no girls \n",
      "Soon -- Oh my God, homebody, you probably eat \n",
      "Spaghetti with a spoon! Come on and say it! \n",
      "\n",
      "VIP. Vanilla Ice yep, yep, I'm comin' hard like a rhino \n",
      "Intoxicating so you stagger like a wino \n",
      "So punks stop trying and girl stop cryin' \n",
      "Vanilla Ice is sellin' and you people are buyin' \n",
      "'Cause why the freaks are jockin' like Crazy Glue \n",
      "Movin' and groovin' trying to sing along \n",
      "All through the ghetto groovin' this here song \n",
      "Now you're amazed by the VIP posse. \n",
      "\n",
      "Steppin' so hard like a German Nazi \n",
      "Startled by the bases hittin' ground \n",
      "There's no trippin' on mine, I'm just gettin' down \n",
      "Sparkamatic, I'm hangin' tight like a fanatic \n",
      "You trapped me once and I thought that \n",
      "You might have it \n",
      "So step down and lend me your ear \n",
      "'89 in my time! You, '90 is my year. \n",
      "\n",
      "You're weakenin' fast, YO! and I can tell it \n",
      "Your body's gettin' hot, so, so I can smell it \n",
      "So don't be mad and don't be sad \n",
      "'Cause the lyrics belong to ICE, You can call me Dad \n",
      "You're pitchin' a fit, so step back and endure \n",
      "Let the witch doctor, Ice, do the dance to cure \n",
      "So come up close and don't be square \n",
      "You wanna battle me -- Anytime, anywhere \n",
      "\n",
      "You thought that I was weak, Boy, you're dead wrong \n",
      "So come on, everybody and sing this song \n",
      "\n",
      "Say -- Play that funky music Say, go white boy, go white boy go \n",
      "play that funky music Go white boy, go white boy, go \n",
      "Lay down and boogie and play that funky music till you die. \n",
      "\n",
      "Play that funky music Come on, Come on, let me hear \n",
      "Play that funky music white boy you say it, say it \n",
      "Play that funky music A little louder now \n",
      "Play that funky music, white boy Come on, Come on, Come on \n",
      "Play that funky music \n",
      "\n"
     ]
    }
   ],
   "source": [
    "msg = codecs.decode(open('data/6.txt', 'r').read().encode('utf-8'), 'base64')\n",
    "n = len(msg)\n",
    "keysizes = []\n",
    "for k in range(2, 41):\n",
    "    total_distance = 0\n",
    "    for i in range(0, n, k):\n",
    "        if i + 2*k >= n:\n",
    "            break\n",
    "        total_distance += hamming_distance(msg[i:i + k], msg[i + k:i + 2*k])\n",
    "    keysizes.append((k, total_distance))\n",
    "\n",
    "keysizes.sort(key=lambda x: x[1])\n",
    "for k in keysizes[:1]:\n",
    "    size = k[0]\n",
    "    blocks = [[] for _ in range(size)]\n",
    "    for i in range(n):\n",
    "        blocks[i % size].append(msg[i])\n",
    "\n",
    "    best = []\n",
    "    for block in blocks:\n",
    "        best.append(single_key_xor(bytes(block))[1])\n",
    "\n",
    "    reconstructed = []\n",
    "    for i in range(n):\n",
    "        reconstructed.append(best[i % size][i // size])\n",
    "        \n",
    "    print(bytes(reconstructed).decode('utf-8'))\n"
   ]
  },
  {
   "cell_type": "code",
   "execution_count": null,
   "metadata": {},
   "outputs": [],
   "source": []
  },
  {
   "cell_type": "code",
   "execution_count": null,
   "metadata": {},
   "outputs": [],
   "source": []
  }
 ],
 "metadata": {
  "kernelspec": {
   "display_name": "Python 3",
   "language": "python",
   "name": "python3"
  },
  "language_info": {
   "codemirror_mode": {
    "name": "ipython",
    "version": 3
   },
   "file_extension": ".py",
   "mimetype": "text/x-python",
   "name": "python",
   "nbconvert_exporter": "python",
   "pygments_lexer": "ipython3",
   "version": "3.5.2"
  }
 },
 "nbformat": 4,
 "nbformat_minor": 2
}
