{
 "cells": [
  {
   "cell_type": "markdown",
   "metadata": {},
   "source": [
    "# Imports and Utility Functions"
   ]
  },
  {
   "cell_type": "code",
   "execution_count": 168,
   "metadata": {},
   "outputs": [],
   "source": [
    "import codecs\n",
    "import unittest\n",
    "import string\n",
    "\n",
    "def decode_str(S):\n",
    "    return bytes(ord(x) for x in S)\n",
    "\n",
    "def repeat_key_xor(message, key):\n",
    "    n, m = len(message), len(key)\n",
    "    result = []\n",
    "    for i in range(n):\n",
    "        byte = message[i] ^ key[i % m]\n",
    "        result.append(byte)\n",
    "    return bytes(result)\n",
    "\n",
    "\n",
    "LETTERS = 'etaoinsrhldcumfpgwybvkxjqz'\n",
    "SCORES = [x for x in range(len(LETTERS), 0, -1)]\n",
    "def text_score(S):\n",
    "    \"\"\"\n",
    "    Returns the score of a piece of text looking only at letter \n",
    "    frequency.\n",
    "    \"\"\"\n",
    "    score = 0\n",
    "    for i in S:\n",
    "        ch = chr(i)\n",
    "        if ch != '\\n' and not ch.isprintable():\n",
    "            return -1\n",
    "        if ch in LETTERS:\n",
    "            score += SCORES[LETTERS.index(ch)]\n",
    "    return score\n",
    "\n",
    "\n",
    "def popcount(x):\n",
    "    return bin(x).count('1')\n",
    "\n",
    "\n",
    "def hamming_distance(A, B):\n",
    "    \"\"\"\n",
    "    (bytes, bytes) -> int\n",
    "    Returns the hamming distance between 'bytes' A and B.\n",
    "    \"\"\"\n",
    "    assert len(A) == len(B), 'lengths are not equal.'\n",
    "\n",
    "    distance = sum(popcount(x ^ y) for x, y in zip(A, B))\n",
    "    return distance\n"
   ]
  },
  {
   "cell_type": "markdown",
   "metadata": {},
   "source": [
    "## Challenge 1.1\n",
    "Convert hex to base64"
   ]
  },
  {
   "cell_type": "code",
   "execution_count": 146,
   "metadata": {},
   "outputs": [
    {
     "data": {
      "text/plain": [
       "b'SSdtIGtpbGxpbmcgeW91ciBicmFpbiBsaWtlIGEgcG9pc29ub3VzIG11c2hyb29t\\n'"
      ]
     },
     "execution_count": 146,
     "metadata": {},
     "output_type": "execute_result"
    }
   ],
   "source": [
    "hex_string = '49276d206b696c6c696e6720796f757220627261696e206c696b65206120706f69736f6e6f7573206d757368726f6f6d'\n",
    "b = codecs.decode(hex_string, 'hex')\n",
    "base64_string = codecs.encode(b, 'base64')\n",
    "\n",
    "base64_string"
   ]
  },
  {
   "cell_type": "markdown",
   "metadata": {},
   "source": [
    "## Challenge 1.2: Fixed XOR\n",
    "Write a function that takes two equal-length buffers and produces their XOR combination."
   ]
  },
  {
   "cell_type": "code",
   "execution_count": 147,
   "metadata": {},
   "outputs": [
    {
     "data": {
      "text/plain": [
       "'746865206b696420646f6e277420706c6179'"
      ]
     },
     "execution_count": 147,
     "metadata": {},
     "output_type": "execute_result"
    }
   ],
   "source": [
    "hex1 = '1c0111001f010100061a024b53535009181c'\n",
    "hex2 = '686974207468652062756c6c277320657965'\n",
    "b1 = codecs.decode(hex1, 'hex')\n",
    "b2 = codecs.decode(hex2, 'hex')\n",
    "\n",
    "result = [x ^ y for x, y in zip(b1, b2)]\n",
    "bytes(result).hex()"
   ]
  },
  {
   "cell_type": "markdown",
   "metadata": {},
   "source": [
    "## Challenge 1.3: Single-byte XOR cipher"
   ]
  },
  {
   "cell_type": "code",
   "execution_count": 154,
   "metadata": {},
   "outputs": [
    {
     "data": {
      "text/plain": [
       "(428, b\"Cooking MC's like a pound of bacon\")"
      ]
     },
     "execution_count": 154,
     "metadata": {},
     "output_type": "execute_result"
    }
   ],
   "source": [
    "def single_key_xor(b):\n",
    "    best = (-1, b'')\n",
    "    for guess in range(256):\n",
    "        b1 = repeat_key_xor(b, bytes([guess]))\n",
    "        score = text_score(b1)\n",
    "        best = max(best, (score, b1))\n",
    "    return best\n",
    "\n",
    "hex1 = '1b37373331363f78151b7f2b783431333d78397828372d363c78373e783a393b3736'\n",
    "b1 = codecs.decode(hex1, 'hex')\n",
    "    \n",
    "single_key_xor(b1)"
   ]
  },
  {
   "cell_type": "markdown",
   "metadata": {},
   "source": [
    "## Challenge 1.4: Detect single-character XOR"
   ]
  },
  {
   "cell_type": "code",
   "execution_count": 155,
   "metadata": {},
   "outputs": [
    {
     "data": {
      "text/plain": [
       "(416, b'Now that the party is jumping\\n')"
      ]
     },
     "execution_count": 155,
     "metadata": {},
     "output_type": "execute_result"
    }
   ],
   "source": [
    "best = (-1, b'')\n",
    "with open('4.txt', 'r') as fin:\n",
    "    for line in fin:\n",
    "        ans = single_key_xor(codecs.decode(line.rstrip(), 'hex'))\n",
    "        best = max(best, ans)\n",
    "best"
   ]
  },
  {
   "cell_type": "markdown",
   "metadata": {},
   "source": [
    "## Challenge 1.5: Implement repeating-key XOR"
   ]
  },
  {
   "cell_type": "code",
   "execution_count": 162,
   "metadata": {},
   "outputs": [
    {
     "data": {
      "text/plain": [
       "b'0b3637272a2b2e63622c2e69692a23693a2a3c6324202d623d63343c2a26226324272765272a282b2f20430a652e2c652a3124333a653e2b2027630c692b20283165286326302e27282f'"
      ]
     },
     "execution_count": 162,
     "metadata": {},
     "output_type": "execute_result"
    }
   ],
   "source": [
    "msg = '''Burning 'em, if you ain't quick and nimble\n",
    "I go crazy when I hear a cymbal'''\n",
    "\n",
    "key = 'ICE'\n",
    "b = repeat_key_xor(bytes(ord(x) for x in msg), bytes(ord(x) for x in key))\n",
    "\n",
    "codecs.encode(b, 'hex')"
   ]
  },
  {
   "cell_type": "markdown",
   "metadata": {},
   "source": [
    "## Challenge 1.6: Break repeating-key XOR"
   ]
  },
  {
   "cell_type": "code",
   "execution_count": 173,
   "metadata": {},
   "outputs": [
    {
     "data": {
      "text/plain": [
       "37"
      ]
     },
     "execution_count": 173,
     "metadata": {},
     "output_type": "execute_result"
    }
   ],
   "source": [
    "s1 = 'this is a test'\n",
    "s2 = 'wokka wokka!!!'\n",
    "\n",
    "hamming_distance(s1.encode('utf-8'), s2.encode('utf-8'))"
   ]
  },
  {
   "cell_type": "code",
   "execution_count": 164,
   "metadata": {},
   "outputs": [
    {
     "ename": "NameError",
     "evalue": "name 'utility' is not defined",
     "output_type": "error",
     "traceback": [
      "\u001b[0;31m---------------------------------------------------------------------------\u001b[0m",
      "\u001b[0;31mNameError\u001b[0m                                 Traceback (most recent call last)",
      "\u001b[0;32m<ipython-input-164-5bfd3fd36b76>\u001b[0m in \u001b[0;36m<module>\u001b[0;34m()\u001b[0m\n\u001b[1;32m      1\u001b[0m \u001b[0;32mwith\u001b[0m \u001b[0mopen\u001b[0m\u001b[0;34m(\u001b[0m\u001b[0;34m'6.txt'\u001b[0m\u001b[0;34m,\u001b[0m \u001b[0;34m'r'\u001b[0m\u001b[0;34m)\u001b[0m \u001b[0;32mas\u001b[0m \u001b[0mfin\u001b[0m\u001b[0;34m:\u001b[0m\u001b[0;34m\u001b[0m\u001b[0m\n\u001b[1;32m      2\u001b[0m     \u001b[0mmsg\u001b[0m \u001b[0;34m=\u001b[0m \u001b[0mfin\u001b[0m\u001b[0;34m.\u001b[0m\u001b[0mread\u001b[0m\u001b[0;34m(\u001b[0m\u001b[0;34m)\u001b[0m\u001b[0;34m.\u001b[0m\u001b[0mreplace\u001b[0m\u001b[0;34m(\u001b[0m\u001b[0;34m'\\n'\u001b[0m\u001b[0;34m,\u001b[0m \u001b[0;34m''\u001b[0m\u001b[0;34m)\u001b[0m\u001b[0;34m\u001b[0m\u001b[0m\n\u001b[0;32m----> 3\u001b[0;31m     \u001b[0mmsg\u001b[0m \u001b[0;34m=\u001b[0m \u001b[0mutility\u001b[0m\u001b[0;34m.\u001b[0m\u001b[0mbase64_decode\u001b[0m\u001b[0;34m(\u001b[0m\u001b[0mmsg\u001b[0m\u001b[0;34m.\u001b[0m\u001b[0mencode\u001b[0m\u001b[0;34m(\u001b[0m\u001b[0;34m)\u001b[0m\u001b[0;34m)\u001b[0m\u001b[0;34m\u001b[0m\u001b[0m\n\u001b[0m\u001b[1;32m      4\u001b[0m     \u001b[0mn\u001b[0m \u001b[0;34m=\u001b[0m \u001b[0mlen\u001b[0m\u001b[0;34m(\u001b[0m\u001b[0mmsg\u001b[0m\u001b[0;34m)\u001b[0m\u001b[0;34m\u001b[0m\u001b[0m\n\u001b[1;32m      5\u001b[0m \u001b[0;34m\u001b[0m\u001b[0m\n",
      "\u001b[0;31mNameError\u001b[0m: name 'utility' is not defined"
     ]
    }
   ],
   "source": [
    "with open('6.txt', 'r') as fin:\n",
    "    msg = fin.read().replace('\\n', '')\n",
    "    msg = utility.base64_decode(msg.encode())\n",
    "    n = len(msg)\n",
    "\n",
    "keysizes = []\n",
    "for k in range(2, min(n // 2, 42)):\n",
    "    total = 0\n",
    "    count = 0\n",
    "    for i in range(0, len(msg), k):\n",
    "        if i + k + k > len(msg):\n",
    "            break\n",
    "        total += hamming_distance(msg[i:i + k].decode(),\n",
    "                                          msg[i + k:i + k + k].decode())\n",
    "        count += 1\n",
    "    keysizes.append((k, total / count / k))\n",
    "\n",
    "keysizes.sort(key=lambda x: x[1])\n",
    "\n",
    "max_score = None\n",
    "answer = None\n",
    "\n",
    "for i in range(4):\n",
    "    k = keysizes[i][0]\n",
    "    lines = [[] for _ in range(k)]\n",
    "    for j in range(n):\n",
    "        lines[j % k].append(msg[j])\n",
    "\n",
    "    bytes_list = []\n",
    "    valid = True\n",
    "    for line in lines:\n",
    "        score, ans = best_guess(bytes(line))\n",
    "        if score is None:\n",
    "            valid = False\n",
    "            break\n",
    "        bytes_list.append(ans)\n",
    "\n",
    "    if not valid:\n",
    "        continue\n",
    "\n",
    "    bytes_rearranged = []\n",
    "    for c in range((n + k - 1) // k):\n",
    "        for r in range(k):\n",
    "            if c < len(bytes_list[r]):\n",
    "                bytes_rearranged.append(bytes_list[r][c])\n",
    "\n",
    "    score = score_english(bytes(bytes_rearranged))\n",
    "    if score is not None and (max_score is None or score > max_score):\n",
    "        answer = bytes(bytes_rearranged).decode()\n",
    "        max_score = score\n",
    "\n",
    "assert (max_score is not None), 'answer not found.'\n",
    "print(answer)\n"
   ]
  },
  {
   "cell_type": "code",
   "execution_count": null,
   "metadata": {},
   "outputs": [],
   "source": []
  }
 ],
 "metadata": {
  "kernelspec": {
   "display_name": "Python 3",
   "language": "python",
   "name": "python3"
  },
  "language_info": {
   "codemirror_mode": {
    "name": "ipython",
    "version": 3
   },
   "file_extension": ".py",
   "mimetype": "text/x-python",
   "name": "python",
   "nbconvert_exporter": "python",
   "pygments_lexer": "ipython3",
   "version": "3.5.2"
  }
 },
 "nbformat": 4,
 "nbformat_minor": 2
}
